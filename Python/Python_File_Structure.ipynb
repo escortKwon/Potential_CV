{
 "cells": [
  {
   "cell_type": "markdown",
   "metadata": {},
   "source": [
    "# Python File Structure"
   ]
  },
  {
   "cell_type": "markdown",
   "metadata": {},
   "source": [
    "## 재귀 함수"
   ]
  },
  {
   "cell_type": "code",
   "execution_count": 3,
   "metadata": {},
   "outputs": [
    {
     "name": "stdout",
     "output_type": "stream",
     "text": [
      "1\n",
      "2\n",
      "6\n",
      "24\n",
      "120\n"
     ]
    }
   ],
   "source": [
    "# factorial\n",
    "def factorial(n):\n",
    "    # base case\n",
    "    if n <=0: #1\n",
    "        return 1\n",
    "    return n * factorial(n-1)\n",
    "\n",
    "for i in range(1, 6):\n",
    "    print(factorial(i))"
   ]
  },
  {
   "cell_type": "code",
   "execution_count": 4,
   "metadata": {},
   "outputs": [
    {
     "name": "stdout",
     "output_type": "stream",
     "text": [
      "30\n"
     ]
    }
   ],
   "source": [
    "# stack_frame\n",
    "def add_two(a, b):\n",
    "    c = a + b # 4\n",
    "    return c\n",
    "\n",
    "a = 10 # 1\n",
    "b = 20 # 2\n",
    "result = add_two(a, b) # 3\n",
    "print(result)"
   ]
  },
  {
   "cell_type": "code",
   "execution_count": 5,
   "metadata": {},
   "outputs": [
    {
     "name": "stdout",
     "output_type": "stream",
     "text": [
      "[1, 2, 3]\n",
      "[1, 3, 2]\n",
      "[2, 1, 3]\n",
      "[2, 3, 1]\n",
      "[3, 2, 1]\n",
      "[3, 1, 2]\n"
     ]
    }
   ],
   "source": [
    "# permutation\n",
    "def permeutation(arr, start):\n",
    "    if len(arr) - 1 == start:\n",
    "        print(arr)\n",
    "        return\n",
    "    for idx in range(start, len(arr)):\n",
    "        arr[start], arr[idx] = arr[idx], arr[start]\n",
    "        permeutation(arr, start + 1)\n",
    "        arr[start], arr[idx] = arr[idx], arr[start]\n",
    "\n",
    "arr = [1, 2, 3]\n",
    "permeutation(arr, 0)"
   ]
  },
  {
   "cell_type": "markdown",
   "metadata": {},
   "source": [
    "## 성능 분석"
   ]
  },
  {
   "cell_type": "code",
   "execution_count": 6,
   "metadata": {},
   "outputs": [
    {
     "name": "stdout",
     "output_type": "stream",
     "text": [
      "25\n"
     ]
    }
   ],
   "source": [
    "# opeartion_count\n",
    "def func(arr, init):\n",
    "    n = len(arr)\n",
    "    ret = init\n",
    "    for i in range(n):\n",
    "        ret += arr[i]\n",
    "    return ret\n",
    "\n",
    "arr = [1, 2, 3, 4, 5]\n",
    "result = func(arr, 10)\n",
    "print(result)"
   ]
  },
  {
   "cell_type": "markdown",
   "metadata": {},
   "source": [
    "## 배열"
   ]
  },
  {
   "cell_type": "code",
   "execution_count": null,
   "metadata": {},
   "outputs": [],
   "source": [
    "# principle_of_locality\n",
    "def sum_all(arr):\n",
    "    ret = 0 # 1\n",
    "    for elem in arr: # 2\n",
    "        ret += elem # 3\n",
    "    return ret"
   ]
  }
 ],
 "metadata": {
  "interpreter": {
   "hash": "5e61bb7a8009188c061d1a8be07621b4646c93cc2cc7b6dfdf5e6fcd232f2165"
  },
  "kernelspec": {
   "display_name": "Python 3.9.12 ('Drill_ML')",
   "language": "python",
   "name": "python3"
  },
  "language_info": {
   "codemirror_mode": {
    "name": "ipython",
    "version": 3
   },
   "file_extension": ".py",
   "mimetype": "text/x-python",
   "name": "python",
   "nbconvert_exporter": "python",
   "pygments_lexer": "ipython3",
   "version": "3.9.12"
  },
  "orig_nbformat": 4
 },
 "nbformat": 4,
 "nbformat_minor": 2
}
